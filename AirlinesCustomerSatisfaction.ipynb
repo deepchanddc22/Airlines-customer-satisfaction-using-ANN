{
 "cells": [
  {
   "cell_type": "markdown",
   "id": "d5e91872",
   "metadata": {},
   "source": [
    "# Airline Customer Satisfaction Prediction using ANN"
   ]
  },
  {
   "cell_type": "code",
   "execution_count": 3,
   "id": "1ac90837",
   "metadata": {},
   "outputs": [],
   "source": [
    "import torch\n",
    "import torch.nn as nn\n",
    "\n",
    "import numpy as np\n",
    "import pandas as pd\n",
    "import matplotlib.pyplot as plt\n",
    "\n",
    "from sklearn.utils import shuffle\n",
    "\n",
    "%matplotlib inline"
   ]
  },
  {
   "cell_type": "code",
   "execution_count": 5,
   "id": "eba96d87",
   "metadata": {},
   "outputs": [],
   "source": [
    "df = pd.read_csv(r\"D:\\data science\\Data scientist\\Projects\\Project 3 ANN - DL\\train.csv\")"
   ]
  },
  {
   "cell_type": "code",
   "execution_count": 6,
   "id": "ced68863",
   "metadata": {},
   "outputs": [
    {
     "data": {
      "text/html": [
       "<div>\n",
       "<style scoped>\n",
       "    .dataframe tbody tr th:only-of-type {\n",
       "        vertical-align: middle;\n",
       "    }\n",
       "\n",
       "    .dataframe tbody tr th {\n",
       "        vertical-align: top;\n",
       "    }\n",
       "\n",
       "    .dataframe thead th {\n",
       "        text-align: right;\n",
       "    }\n",
       "</style>\n",
       "<table border=\"1\" class=\"dataframe\">\n",
       "  <thead>\n",
       "    <tr style=\"text-align: right;\">\n",
       "      <th></th>\n",
       "      <th>Unnamed: 0</th>\n",
       "      <th>id</th>\n",
       "      <th>Gender</th>\n",
       "      <th>Customer Type</th>\n",
       "      <th>Age</th>\n",
       "      <th>Type of Travel</th>\n",
       "      <th>Class</th>\n",
       "      <th>Flight Distance</th>\n",
       "      <th>Inflight wifi service</th>\n",
       "      <th>Departure/Arrival time convenient</th>\n",
       "      <th>...</th>\n",
       "      <th>Inflight entertainment</th>\n",
       "      <th>On-board service</th>\n",
       "      <th>Leg room service</th>\n",
       "      <th>Baggage handling</th>\n",
       "      <th>Checkin service</th>\n",
       "      <th>Inflight service</th>\n",
       "      <th>Cleanliness</th>\n",
       "      <th>Departure Delay in Minutes</th>\n",
       "      <th>Arrival Delay in Minutes</th>\n",
       "      <th>satisfaction</th>\n",
       "    </tr>\n",
       "  </thead>\n",
       "  <tbody>\n",
       "    <tr>\n",
       "      <th>0</th>\n",
       "      <td>0</td>\n",
       "      <td>70172</td>\n",
       "      <td>Male</td>\n",
       "      <td>Loyal Customer</td>\n",
       "      <td>13</td>\n",
       "      <td>Personal Travel</td>\n",
       "      <td>Eco Plus</td>\n",
       "      <td>460</td>\n",
       "      <td>3</td>\n",
       "      <td>4</td>\n",
       "      <td>...</td>\n",
       "      <td>5</td>\n",
       "      <td>4</td>\n",
       "      <td>3</td>\n",
       "      <td>4</td>\n",
       "      <td>4</td>\n",
       "      <td>5</td>\n",
       "      <td>5</td>\n",
       "      <td>25</td>\n",
       "      <td>18.0</td>\n",
       "      <td>neutral or dissatisfied</td>\n",
       "    </tr>\n",
       "    <tr>\n",
       "      <th>1</th>\n",
       "      <td>1</td>\n",
       "      <td>5047</td>\n",
       "      <td>Male</td>\n",
       "      <td>disloyal Customer</td>\n",
       "      <td>25</td>\n",
       "      <td>Business travel</td>\n",
       "      <td>Business</td>\n",
       "      <td>235</td>\n",
       "      <td>3</td>\n",
       "      <td>2</td>\n",
       "      <td>...</td>\n",
       "      <td>1</td>\n",
       "      <td>1</td>\n",
       "      <td>5</td>\n",
       "      <td>3</td>\n",
       "      <td>1</td>\n",
       "      <td>4</td>\n",
       "      <td>1</td>\n",
       "      <td>1</td>\n",
       "      <td>6.0</td>\n",
       "      <td>neutral or dissatisfied</td>\n",
       "    </tr>\n",
       "    <tr>\n",
       "      <th>2</th>\n",
       "      <td>2</td>\n",
       "      <td>110028</td>\n",
       "      <td>Female</td>\n",
       "      <td>Loyal Customer</td>\n",
       "      <td>26</td>\n",
       "      <td>Business travel</td>\n",
       "      <td>Business</td>\n",
       "      <td>1142</td>\n",
       "      <td>2</td>\n",
       "      <td>2</td>\n",
       "      <td>...</td>\n",
       "      <td>5</td>\n",
       "      <td>4</td>\n",
       "      <td>3</td>\n",
       "      <td>4</td>\n",
       "      <td>4</td>\n",
       "      <td>4</td>\n",
       "      <td>5</td>\n",
       "      <td>0</td>\n",
       "      <td>0.0</td>\n",
       "      <td>satisfied</td>\n",
       "    </tr>\n",
       "    <tr>\n",
       "      <th>3</th>\n",
       "      <td>3</td>\n",
       "      <td>24026</td>\n",
       "      <td>Female</td>\n",
       "      <td>Loyal Customer</td>\n",
       "      <td>25</td>\n",
       "      <td>Business travel</td>\n",
       "      <td>Business</td>\n",
       "      <td>562</td>\n",
       "      <td>2</td>\n",
       "      <td>5</td>\n",
       "      <td>...</td>\n",
       "      <td>2</td>\n",
       "      <td>2</td>\n",
       "      <td>5</td>\n",
       "      <td>3</td>\n",
       "      <td>1</td>\n",
       "      <td>4</td>\n",
       "      <td>2</td>\n",
       "      <td>11</td>\n",
       "      <td>9.0</td>\n",
       "      <td>neutral or dissatisfied</td>\n",
       "    </tr>\n",
       "    <tr>\n",
       "      <th>4</th>\n",
       "      <td>4</td>\n",
       "      <td>119299</td>\n",
       "      <td>Male</td>\n",
       "      <td>Loyal Customer</td>\n",
       "      <td>61</td>\n",
       "      <td>Business travel</td>\n",
       "      <td>Business</td>\n",
       "      <td>214</td>\n",
       "      <td>3</td>\n",
       "      <td>3</td>\n",
       "      <td>...</td>\n",
       "      <td>3</td>\n",
       "      <td>3</td>\n",
       "      <td>4</td>\n",
       "      <td>4</td>\n",
       "      <td>3</td>\n",
       "      <td>3</td>\n",
       "      <td>3</td>\n",
       "      <td>0</td>\n",
       "      <td>0.0</td>\n",
       "      <td>satisfied</td>\n",
       "    </tr>\n",
       "  </tbody>\n",
       "</table>\n",
       "<p>5 rows × 25 columns</p>\n",
       "</div>"
      ],
      "text/plain": [
       "   Unnamed: 0      id  Gender      Customer Type  Age   Type of Travel  \\\n",
       "0           0   70172    Male     Loyal Customer   13  Personal Travel   \n",
       "1           1    5047    Male  disloyal Customer   25  Business travel   \n",
       "2           2  110028  Female     Loyal Customer   26  Business travel   \n",
       "3           3   24026  Female     Loyal Customer   25  Business travel   \n",
       "4           4  119299    Male     Loyal Customer   61  Business travel   \n",
       "\n",
       "      Class  Flight Distance  Inflight wifi service  \\\n",
       "0  Eco Plus              460                      3   \n",
       "1  Business              235                      3   \n",
       "2  Business             1142                      2   \n",
       "3  Business              562                      2   \n",
       "4  Business              214                      3   \n",
       "\n",
       "   Departure/Arrival time convenient  ...  Inflight entertainment  \\\n",
       "0                                  4  ...                       5   \n",
       "1                                  2  ...                       1   \n",
       "2                                  2  ...                       5   \n",
       "3                                  5  ...                       2   \n",
       "4                                  3  ...                       3   \n",
       "\n",
       "   On-board service  Leg room service  Baggage handling  Checkin service  \\\n",
       "0                 4                 3                 4                4   \n",
       "1                 1                 5                 3                1   \n",
       "2                 4                 3                 4                4   \n",
       "3                 2                 5                 3                1   \n",
       "4                 3                 4                 4                3   \n",
       "\n",
       "   Inflight service  Cleanliness  Departure Delay in Minutes  \\\n",
       "0                 5            5                          25   \n",
       "1                 4            1                           1   \n",
       "2                 4            5                           0   \n",
       "3                 4            2                          11   \n",
       "4                 3            3                           0   \n",
       "\n",
       "   Arrival Delay in Minutes             satisfaction  \n",
       "0                      18.0  neutral or dissatisfied  \n",
       "1                       6.0  neutral or dissatisfied  \n",
       "2                       0.0                satisfied  \n",
       "3                       9.0  neutral or dissatisfied  \n",
       "4                       0.0                satisfied  \n",
       "\n",
       "[5 rows x 25 columns]"
      ]
     },
     "execution_count": 6,
     "metadata": {},
     "output_type": "execute_result"
    }
   ],
   "source": [
    "df.head()"
   ]
  },
  {
   "cell_type": "code",
   "execution_count": 8,
   "id": "ae77e9a3",
   "metadata": {},
   "outputs": [
    {
     "data": {
      "text/plain": [
       "(103904, 25)"
      ]
     },
     "execution_count": 8,
     "metadata": {},
     "output_type": "execute_result"
    }
   ],
   "source": [
    "df.shape"
   ]
  },
  {
   "cell_type": "code",
   "execution_count": 11,
   "id": "73bf6104",
   "metadata": {},
   "outputs": [
    {
     "data": {
      "text/plain": [
       "Unnamed: 0                             0\n",
       "id                                     0\n",
       "Gender                                 0\n",
       "Customer Type                          0\n",
       "Age                                    0\n",
       "Type of Travel                         0\n",
       "Class                                  0\n",
       "Flight Distance                        0\n",
       "Inflight wifi service                  0\n",
       "Departure/Arrival time convenient      0\n",
       "Ease of Online booking                 0\n",
       "Gate location                          0\n",
       "Food and drink                         0\n",
       "Online boarding                        0\n",
       "Seat comfort                           0\n",
       "Inflight entertainment                 0\n",
       "On-board service                       0\n",
       "Leg room service                       0\n",
       "Baggage handling                       0\n",
       "Checkin service                        0\n",
       "Inflight service                       0\n",
       "Cleanliness                            0\n",
       "Departure Delay in Minutes             0\n",
       "Arrival Delay in Minutes             310\n",
       "satisfaction                           0\n",
       "dtype: int64"
      ]
     },
     "execution_count": 11,
     "metadata": {},
     "output_type": "execute_result"
    }
   ],
   "source": [
    "df.isnull().sum()"
   ]
  },
  {
   "cell_type": "code",
   "execution_count": 13,
   "id": "13766cf2",
   "metadata": {},
   "outputs": [
    {
     "data": {
      "text/html": [
       "<div>\n",
       "<style scoped>\n",
       "    .dataframe tbody tr th:only-of-type {\n",
       "        vertical-align: middle;\n",
       "    }\n",
       "\n",
       "    .dataframe tbody tr th {\n",
       "        vertical-align: top;\n",
       "    }\n",
       "\n",
       "    .dataframe thead th {\n",
       "        text-align: right;\n",
       "    }\n",
       "</style>\n",
       "<table border=\"1\" class=\"dataframe\">\n",
       "  <thead>\n",
       "    <tr style=\"text-align: right;\">\n",
       "      <th></th>\n",
       "      <th>Unnamed: 0</th>\n",
       "      <th>id</th>\n",
       "      <th>Gender</th>\n",
       "      <th>Customer Type</th>\n",
       "      <th>Age</th>\n",
       "      <th>Type of Travel</th>\n",
       "      <th>Class</th>\n",
       "      <th>Flight Distance</th>\n",
       "      <th>Inflight wifi service</th>\n",
       "      <th>Departure/Arrival time convenient</th>\n",
       "      <th>...</th>\n",
       "      <th>Inflight entertainment</th>\n",
       "      <th>On-board service</th>\n",
       "      <th>Leg room service</th>\n",
       "      <th>Baggage handling</th>\n",
       "      <th>Checkin service</th>\n",
       "      <th>Inflight service</th>\n",
       "      <th>Cleanliness</th>\n",
       "      <th>Departure Delay in Minutes</th>\n",
       "      <th>Arrival Delay in Minutes</th>\n",
       "      <th>satisfaction</th>\n",
       "    </tr>\n",
       "  </thead>\n",
       "  <tbody>\n",
       "    <tr>\n",
       "      <th>213</th>\n",
       "      <td>213</td>\n",
       "      <td>49608</td>\n",
       "      <td>Female</td>\n",
       "      <td>Loyal Customer</td>\n",
       "      <td>38</td>\n",
       "      <td>Business travel</td>\n",
       "      <td>Eco</td>\n",
       "      <td>109</td>\n",
       "      <td>5</td>\n",
       "      <td>3</td>\n",
       "      <td>...</td>\n",
       "      <td>5</td>\n",
       "      <td>5</td>\n",
       "      <td>2</td>\n",
       "      <td>4</td>\n",
       "      <td>1</td>\n",
       "      <td>1</td>\n",
       "      <td>5</td>\n",
       "      <td>31</td>\n",
       "      <td>NaN</td>\n",
       "      <td>satisfied</td>\n",
       "    </tr>\n",
       "    <tr>\n",
       "      <th>1124</th>\n",
       "      <td>1124</td>\n",
       "      <td>73442</td>\n",
       "      <td>Male</td>\n",
       "      <td>Loyal Customer</td>\n",
       "      <td>53</td>\n",
       "      <td>Personal Travel</td>\n",
       "      <td>Eco</td>\n",
       "      <td>1012</td>\n",
       "      <td>3</td>\n",
       "      <td>2</td>\n",
       "      <td>...</td>\n",
       "      <td>4</td>\n",
       "      <td>4</td>\n",
       "      <td>4</td>\n",
       "      <td>4</td>\n",
       "      <td>3</td>\n",
       "      <td>3</td>\n",
       "      <td>4</td>\n",
       "      <td>38</td>\n",
       "      <td>NaN</td>\n",
       "      <td>neutral or dissatisfied</td>\n",
       "    </tr>\n",
       "    <tr>\n",
       "      <th>1529</th>\n",
       "      <td>1529</td>\n",
       "      <td>71178</td>\n",
       "      <td>Male</td>\n",
       "      <td>Loyal Customer</td>\n",
       "      <td>39</td>\n",
       "      <td>Business travel</td>\n",
       "      <td>Business</td>\n",
       "      <td>733</td>\n",
       "      <td>2</td>\n",
       "      <td>5</td>\n",
       "      <td>...</td>\n",
       "      <td>2</td>\n",
       "      <td>2</td>\n",
       "      <td>2</td>\n",
       "      <td>2</td>\n",
       "      <td>2</td>\n",
       "      <td>2</td>\n",
       "      <td>3</td>\n",
       "      <td>11</td>\n",
       "      <td>NaN</td>\n",
       "      <td>neutral or dissatisfied</td>\n",
       "    </tr>\n",
       "    <tr>\n",
       "      <th>2004</th>\n",
       "      <td>2004</td>\n",
       "      <td>72940</td>\n",
       "      <td>Female</td>\n",
       "      <td>disloyal Customer</td>\n",
       "      <td>26</td>\n",
       "      <td>Business travel</td>\n",
       "      <td>Business</td>\n",
       "      <td>1035</td>\n",
       "      <td>3</td>\n",
       "      <td>3</td>\n",
       "      <td>...</td>\n",
       "      <td>2</td>\n",
       "      <td>3</td>\n",
       "      <td>3</td>\n",
       "      <td>4</td>\n",
       "      <td>5</td>\n",
       "      <td>5</td>\n",
       "      <td>2</td>\n",
       "      <td>41</td>\n",
       "      <td>NaN</td>\n",
       "      <td>neutral or dissatisfied</td>\n",
       "    </tr>\n",
       "    <tr>\n",
       "      <th>2108</th>\n",
       "      <td>2108</td>\n",
       "      <td>116374</td>\n",
       "      <td>Female</td>\n",
       "      <td>Loyal Customer</td>\n",
       "      <td>24</td>\n",
       "      <td>Personal Travel</td>\n",
       "      <td>Eco</td>\n",
       "      <td>417</td>\n",
       "      <td>2</td>\n",
       "      <td>1</td>\n",
       "      <td>...</td>\n",
       "      <td>5</td>\n",
       "      <td>1</td>\n",
       "      <td>4</td>\n",
       "      <td>2</td>\n",
       "      <td>1</td>\n",
       "      <td>2</td>\n",
       "      <td>5</td>\n",
       "      <td>1</td>\n",
       "      <td>NaN</td>\n",
       "      <td>neutral or dissatisfied</td>\n",
       "    </tr>\n",
       "    <tr>\n",
       "      <th>...</th>\n",
       "      <td>...</td>\n",
       "      <td>...</td>\n",
       "      <td>...</td>\n",
       "      <td>...</td>\n",
       "      <td>...</td>\n",
       "      <td>...</td>\n",
       "      <td>...</td>\n",
       "      <td>...</td>\n",
       "      <td>...</td>\n",
       "      <td>...</td>\n",
       "      <td>...</td>\n",
       "      <td>...</td>\n",
       "      <td>...</td>\n",
       "      <td>...</td>\n",
       "      <td>...</td>\n",
       "      <td>...</td>\n",
       "      <td>...</td>\n",
       "      <td>...</td>\n",
       "      <td>...</td>\n",
       "      <td>...</td>\n",
       "      <td>...</td>\n",
       "    </tr>\n",
       "    <tr>\n",
       "      <th>102067</th>\n",
       "      <td>102067</td>\n",
       "      <td>36729</td>\n",
       "      <td>Male</td>\n",
       "      <td>Loyal Customer</td>\n",
       "      <td>49</td>\n",
       "      <td>Personal Travel</td>\n",
       "      <td>Eco Plus</td>\n",
       "      <td>1249</td>\n",
       "      <td>2</td>\n",
       "      <td>5</td>\n",
       "      <td>...</td>\n",
       "      <td>3</td>\n",
       "      <td>4</td>\n",
       "      <td>5</td>\n",
       "      <td>4</td>\n",
       "      <td>3</td>\n",
       "      <td>4</td>\n",
       "      <td>3</td>\n",
       "      <td>230</td>\n",
       "      <td>NaN</td>\n",
       "      <td>neutral or dissatisfied</td>\n",
       "    </tr>\n",
       "    <tr>\n",
       "      <th>102384</th>\n",
       "      <td>102384</td>\n",
       "      <td>71241</td>\n",
       "      <td>Male</td>\n",
       "      <td>Loyal Customer</td>\n",
       "      <td>58</td>\n",
       "      <td>Business travel</td>\n",
       "      <td>Eco</td>\n",
       "      <td>733</td>\n",
       "      <td>3</td>\n",
       "      <td>3</td>\n",
       "      <td>...</td>\n",
       "      <td>3</td>\n",
       "      <td>3</td>\n",
       "      <td>1</td>\n",
       "      <td>2</td>\n",
       "      <td>4</td>\n",
       "      <td>2</td>\n",
       "      <td>3</td>\n",
       "      <td>55</td>\n",
       "      <td>NaN</td>\n",
       "      <td>neutral or dissatisfied</td>\n",
       "    </tr>\n",
       "    <tr>\n",
       "      <th>102552</th>\n",
       "      <td>102552</td>\n",
       "      <td>27684</td>\n",
       "      <td>Female</td>\n",
       "      <td>disloyal Customer</td>\n",
       "      <td>29</td>\n",
       "      <td>Business travel</td>\n",
       "      <td>Eco</td>\n",
       "      <td>1107</td>\n",
       "      <td>2</td>\n",
       "      <td>1</td>\n",
       "      <td>...</td>\n",
       "      <td>5</td>\n",
       "      <td>4</td>\n",
       "      <td>1</td>\n",
       "      <td>5</td>\n",
       "      <td>5</td>\n",
       "      <td>3</td>\n",
       "      <td>5</td>\n",
       "      <td>0</td>\n",
       "      <td>NaN</td>\n",
       "      <td>neutral or dissatisfied</td>\n",
       "    </tr>\n",
       "    <tr>\n",
       "      <th>102960</th>\n",
       "      <td>102960</td>\n",
       "      <td>36787</td>\n",
       "      <td>Male</td>\n",
       "      <td>Loyal Customer</td>\n",
       "      <td>58</td>\n",
       "      <td>Business travel</td>\n",
       "      <td>Eco</td>\n",
       "      <td>1088</td>\n",
       "      <td>4</td>\n",
       "      <td>4</td>\n",
       "      <td>...</td>\n",
       "      <td>5</td>\n",
       "      <td>1</td>\n",
       "      <td>5</td>\n",
       "      <td>5</td>\n",
       "      <td>5</td>\n",
       "      <td>3</td>\n",
       "      <td>5</td>\n",
       "      <td>0</td>\n",
       "      <td>NaN</td>\n",
       "      <td>satisfied</td>\n",
       "    </tr>\n",
       "    <tr>\n",
       "      <th>103540</th>\n",
       "      <td>103540</td>\n",
       "      <td>45022</td>\n",
       "      <td>Female</td>\n",
       "      <td>Loyal Customer</td>\n",
       "      <td>33</td>\n",
       "      <td>Personal Travel</td>\n",
       "      <td>Eco</td>\n",
       "      <td>359</td>\n",
       "      <td>4</td>\n",
       "      <td>4</td>\n",
       "      <td>...</td>\n",
       "      <td>4</td>\n",
       "      <td>3</td>\n",
       "      <td>2</td>\n",
       "      <td>5</td>\n",
       "      <td>3</td>\n",
       "      <td>5</td>\n",
       "      <td>4</td>\n",
       "      <td>42</td>\n",
       "      <td>NaN</td>\n",
       "      <td>neutral or dissatisfied</td>\n",
       "    </tr>\n",
       "  </tbody>\n",
       "</table>\n",
       "<p>310 rows × 25 columns</p>\n",
       "</div>"
      ],
      "text/plain": [
       "        Unnamed: 0      id  Gender      Customer Type  Age   Type of Travel  \\\n",
       "213            213   49608  Female     Loyal Customer   38  Business travel   \n",
       "1124          1124   73442    Male     Loyal Customer   53  Personal Travel   \n",
       "1529          1529   71178    Male     Loyal Customer   39  Business travel   \n",
       "2004          2004   72940  Female  disloyal Customer   26  Business travel   \n",
       "2108          2108  116374  Female     Loyal Customer   24  Personal Travel   \n",
       "...            ...     ...     ...                ...  ...              ...   \n",
       "102067      102067   36729    Male     Loyal Customer   49  Personal Travel   \n",
       "102384      102384   71241    Male     Loyal Customer   58  Business travel   \n",
       "102552      102552   27684  Female  disloyal Customer   29  Business travel   \n",
       "102960      102960   36787    Male     Loyal Customer   58  Business travel   \n",
       "103540      103540   45022  Female     Loyal Customer   33  Personal Travel   \n",
       "\n",
       "           Class  Flight Distance  Inflight wifi service  \\\n",
       "213          Eco              109                      5   \n",
       "1124         Eco             1012                      3   \n",
       "1529    Business              733                      2   \n",
       "2004    Business             1035                      3   \n",
       "2108         Eco              417                      2   \n",
       "...          ...              ...                    ...   \n",
       "102067  Eco Plus             1249                      2   \n",
       "102384       Eco              733                      3   \n",
       "102552       Eco             1107                      2   \n",
       "102960       Eco             1088                      4   \n",
       "103540       Eco              359                      4   \n",
       "\n",
       "        Departure/Arrival time convenient  ...  Inflight entertainment  \\\n",
       "213                                     3  ...                       5   \n",
       "1124                                    2  ...                       4   \n",
       "1529                                    5  ...                       2   \n",
       "2004                                    3  ...                       2   \n",
       "2108                                    1  ...                       5   \n",
       "...                                   ...  ...                     ...   \n",
       "102067                                  5  ...                       3   \n",
       "102384                                  3  ...                       3   \n",
       "102552                                  1  ...                       5   \n",
       "102960                                  4  ...                       5   \n",
       "103540                                  4  ...                       4   \n",
       "\n",
       "        On-board service  Leg room service  Baggage handling  Checkin service  \\\n",
       "213                    5                 2                 4                1   \n",
       "1124                   4                 4                 4                3   \n",
       "1529                   2                 2                 2                2   \n",
       "2004                   3                 3                 4                5   \n",
       "2108                   1                 4                 2                1   \n",
       "...                  ...               ...               ...              ...   \n",
       "102067                 4                 5                 4                3   \n",
       "102384                 3                 1                 2                4   \n",
       "102552                 4                 1                 5                5   \n",
       "102960                 1                 5                 5                5   \n",
       "103540                 3                 2                 5                3   \n",
       "\n",
       "        Inflight service  Cleanliness  Departure Delay in Minutes  \\\n",
       "213                    1            5                          31   \n",
       "1124                   3            4                          38   \n",
       "1529                   2            3                          11   \n",
       "2004                   5            2                          41   \n",
       "2108                   2            5                           1   \n",
       "...                  ...          ...                         ...   \n",
       "102067                 4            3                         230   \n",
       "102384                 2            3                          55   \n",
       "102552                 3            5                           0   \n",
       "102960                 3            5                           0   \n",
       "103540                 5            4                          42   \n",
       "\n",
       "        Arrival Delay in Minutes             satisfaction  \n",
       "213                          NaN                satisfied  \n",
       "1124                         NaN  neutral or dissatisfied  \n",
       "1529                         NaN  neutral or dissatisfied  \n",
       "2004                         NaN  neutral or dissatisfied  \n",
       "2108                         NaN  neutral or dissatisfied  \n",
       "...                          ...                      ...  \n",
       "102067                       NaN  neutral or dissatisfied  \n",
       "102384                       NaN  neutral or dissatisfied  \n",
       "102552                       NaN  neutral or dissatisfied  \n",
       "102960                       NaN                satisfied  \n",
       "103540                       NaN  neutral or dissatisfied  \n",
       "\n",
       "[310 rows x 25 columns]"
      ]
     },
     "execution_count": 13,
     "metadata": {},
     "output_type": "execute_result"
    }
   ],
   "source": [
    "df[df['Arrival Delay in Minutes'].isnull()]"
   ]
  },
  {
   "cell_type": "code",
   "execution_count": 14,
   "id": "8660465f",
   "metadata": {},
   "outputs": [],
   "source": [
    "df.fillna(0,inplace=True)"
   ]
  },
  {
   "cell_type": "code",
   "execution_count": 16,
   "id": "f7c0798d",
   "metadata": {},
   "outputs": [
    {
     "data": {
      "text/plain": [
       "Unnamed: 0                           0\n",
       "id                                   0\n",
       "Gender                               0\n",
       "Customer Type                        0\n",
       "Age                                  0\n",
       "Type of Travel                       0\n",
       "Class                                0\n",
       "Flight Distance                      0\n",
       "Inflight wifi service                0\n",
       "Departure/Arrival time convenient    0\n",
       "Ease of Online booking               0\n",
       "Gate location                        0\n",
       "Food and drink                       0\n",
       "Online boarding                      0\n",
       "Seat comfort                         0\n",
       "Inflight entertainment               0\n",
       "On-board service                     0\n",
       "Leg room service                     0\n",
       "Baggage handling                     0\n",
       "Checkin service                      0\n",
       "Inflight service                     0\n",
       "Cleanliness                          0\n",
       "Departure Delay in Minutes           0\n",
       "Arrival Delay in Minutes             0\n",
       "satisfaction                         0\n",
       "dtype: int64"
      ]
     },
     "execution_count": 16,
     "metadata": {},
     "output_type": "execute_result"
    }
   ],
   "source": [
    "df.isnull().sum()"
   ]
  },
  {
   "cell_type": "code",
   "execution_count": 18,
   "id": "650db66f",
   "metadata": {},
   "outputs": [
    {
     "data": {
      "text/plain": [
       "0"
      ]
     },
     "execution_count": 18,
     "metadata": {},
     "output_type": "execute_result"
    }
   ],
   "source": [
    "df.duplicated().sum()"
   ]
  },
  {
   "cell_type": "markdown",
   "id": "c793410c",
   "metadata": {},
   "source": [
    "### Separating continous and label column names"
   ]
  },
  {
   "cell_type": "code",
   "execution_count": 20,
   "id": "b9740875",
   "metadata": {},
   "outputs": [
    {
     "data": {
      "text/plain": [
       "Index(['Unnamed: 0', 'id', 'Gender', 'Customer Type', 'Age', 'Type of Travel',\n",
       "       'Class', 'Flight Distance', 'Inflight wifi service',\n",
       "       'Departure/Arrival time convenient', 'Ease of Online booking',\n",
       "       'Gate location', 'Food and drink', 'Online boarding', 'Seat comfort',\n",
       "       'Inflight entertainment', 'On-board service', 'Leg room service',\n",
       "       'Baggage handling', 'Checkin service', 'Inflight service',\n",
       "       'Cleanliness', 'Departure Delay in Minutes', 'Arrival Delay in Minutes',\n",
       "       'satisfaction'],\n",
       "      dtype='object')"
      ]
     },
     "execution_count": 20,
     "metadata": {},
     "output_type": "execute_result"
    }
   ],
   "source": [
    "df.columns"
   ]
  },
  {
   "cell_type": "code",
   "execution_count": 27,
   "id": "26db61fd",
   "metadata": {},
   "outputs": [],
   "source": [
    "#df = df.drop('Unnamed: 0',axis = 1)"
   ]
  },
  {
   "cell_type": "code",
   "execution_count": 36,
   "id": "d2595b37",
   "metadata": {},
   "outputs": [
    {
     "name": "stdout",
     "output_type": "stream",
     "text": [
      "<class 'pandas.core.frame.DataFrame'>\n",
      "RangeIndex: 103904 entries, 0 to 103903\n",
      "Data columns (total 24 columns):\n",
      " #   Column                             Non-Null Count   Dtype  \n",
      "---  ------                             --------------   -----  \n",
      " 0   id                                 103904 non-null  int64  \n",
      " 1   Gender                             103904 non-null  object \n",
      " 2   Customer Type                      103904 non-null  object \n",
      " 3   Age                                103904 non-null  int64  \n",
      " 4   Type of Travel                     103904 non-null  object \n",
      " 5   Class                              103904 non-null  object \n",
      " 6   Flight Distance                    103904 non-null  int64  \n",
      " 7   Inflight wifi service              103904 non-null  int64  \n",
      " 8   Departure/Arrival time convenient  103904 non-null  int64  \n",
      " 9   Ease of Online booking             103904 non-null  int64  \n",
      " 10  Gate location                      103904 non-null  int64  \n",
      " 11  Food and drink                     103904 non-null  int64  \n",
      " 12  Online boarding                    103904 non-null  int64  \n",
      " 13  Seat comfort                       103904 non-null  int64  \n",
      " 14  Inflight entertainment             103904 non-null  int64  \n",
      " 15  On-board service                   103904 non-null  int64  \n",
      " 16  Leg room service                   103904 non-null  int64  \n",
      " 17  Baggage handling                   103904 non-null  int64  \n",
      " 18  Checkin service                    103904 non-null  int64  \n",
      " 19  Inflight service                   103904 non-null  int64  \n",
      " 20  Cleanliness                        103904 non-null  int64  \n",
      " 21  Departure Delay in Minutes         103904 non-null  int64  \n",
      " 22  Arrival Delay in Minutes           103904 non-null  float64\n",
      " 23  satisfaction                       103904 non-null  object \n",
      "dtypes: float64(1), int64(18), object(5)\n",
      "memory usage: 19.0+ MB\n"
     ]
    }
   ],
   "source": [
    "df.info()"
   ]
  },
  {
   "cell_type": "markdown",
   "id": "3a7ef63c",
   "metadata": {},
   "source": [
    "### Convert categorical columns to category dtypes"
   ]
  },
  {
   "cell_type": "code",
   "execution_count": 50,
   "id": "8fc1efd2",
   "metadata": {},
   "outputs": [],
   "source": [
    "category_columns = ['Gender','Customer Type','Type of Travel','Class']\n",
    "continous_columns = ['id','Age','Flight Distance','Inflight wifi service',\n",
    "                     'Departure/Arrival time convenient','Ease of Online booking',\n",
    "                     'Gate location','Food and drink','Online boarding','Seat comfort',\n",
    "                     'Inflight entertainment', 'On-board service', 'Leg room service',\n",
    "                     'Baggage handling', 'Checkin service', 'Inflight service','Cleanliness',\n",
    "                     'Departure Delay in Minutes','Arrival Delay in Minutes']\n",
    "y_columns = ['satisfaction']\n",
    "\n",
    "\n"
   ]
  },
  {
   "cell_type": "code",
   "execution_count": 39,
   "id": "80fd4adc",
   "metadata": {},
   "outputs": [],
   "source": [
    "for cat in category_columns:\n",
    "    df[cat] = df[cat].astype('category')"
   ]
  },
  {
   "cell_type": "code",
   "execution_count": 42,
   "id": "94da989e",
   "metadata": {},
   "outputs": [],
   "source": [
    "for cat in y_columns:\n",
    "    df[cat] = df[cat].astype('category')"
   ]
  },
  {
   "cell_type": "code",
   "execution_count": 43,
   "id": "01d5b1f3",
   "metadata": {},
   "outputs": [
    {
     "name": "stdout",
     "output_type": "stream",
     "text": [
      "<class 'pandas.core.frame.DataFrame'>\n",
      "RangeIndex: 103904 entries, 0 to 103903\n",
      "Data columns (total 24 columns):\n",
      " #   Column                             Non-Null Count   Dtype   \n",
      "---  ------                             --------------   -----   \n",
      " 0   id                                 103904 non-null  int64   \n",
      " 1   Gender                             103904 non-null  category\n",
      " 2   Customer Type                      103904 non-null  category\n",
      " 3   Age                                103904 non-null  int64   \n",
      " 4   Type of Travel                     103904 non-null  category\n",
      " 5   Class                              103904 non-null  category\n",
      " 6   Flight Distance                    103904 non-null  int64   \n",
      " 7   Inflight wifi service              103904 non-null  int64   \n",
      " 8   Departure/Arrival time convenient  103904 non-null  int64   \n",
      " 9   Ease of Online booking             103904 non-null  int64   \n",
      " 10  Gate location                      103904 non-null  int64   \n",
      " 11  Food and drink                     103904 non-null  int64   \n",
      " 12  Online boarding                    103904 non-null  int64   \n",
      " 13  Seat comfort                       103904 non-null  int64   \n",
      " 14  Inflight entertainment             103904 non-null  int64   \n",
      " 15  On-board service                   103904 non-null  int64   \n",
      " 16  Leg room service                   103904 non-null  int64   \n",
      " 17  Baggage handling                   103904 non-null  int64   \n",
      " 18  Checkin service                    103904 non-null  int64   \n",
      " 19  Inflight service                   103904 non-null  int64   \n",
      " 20  Cleanliness                        103904 non-null  int64   \n",
      " 21  Departure Delay in Minutes         103904 non-null  int64   \n",
      " 22  Arrival Delay in Minutes           103904 non-null  float64 \n",
      " 23  satisfaction                       103904 non-null  category\n",
      "dtypes: category(5), float64(1), int64(18)\n",
      "memory usage: 15.6 MB\n"
     ]
    }
   ],
   "source": [
    "df.info()"
   ]
  },
  {
   "cell_type": "markdown",
   "id": "b9a51853",
   "metadata": {},
   "source": [
    "### Shuffling the data"
   ]
  },
  {
   "cell_type": "code",
   "execution_count": 44,
   "id": "13dbf56d",
   "metadata": {},
   "outputs": [
    {
     "data": {
      "text/html": [
       "<div>\n",
       "<style scoped>\n",
       "    .dataframe tbody tr th:only-of-type {\n",
       "        vertical-align: middle;\n",
       "    }\n",
       "\n",
       "    .dataframe tbody tr th {\n",
       "        vertical-align: top;\n",
       "    }\n",
       "\n",
       "    .dataframe thead th {\n",
       "        text-align: right;\n",
       "    }\n",
       "</style>\n",
       "<table border=\"1\" class=\"dataframe\">\n",
       "  <thead>\n",
       "    <tr style=\"text-align: right;\">\n",
       "      <th></th>\n",
       "      <th>id</th>\n",
       "      <th>Gender</th>\n",
       "      <th>Customer Type</th>\n",
       "      <th>Age</th>\n",
       "      <th>Type of Travel</th>\n",
       "      <th>Class</th>\n",
       "      <th>Flight Distance</th>\n",
       "      <th>Inflight wifi service</th>\n",
       "      <th>Departure/Arrival time convenient</th>\n",
       "      <th>Ease of Online booking</th>\n",
       "      <th>...</th>\n",
       "      <th>Inflight entertainment</th>\n",
       "      <th>On-board service</th>\n",
       "      <th>Leg room service</th>\n",
       "      <th>Baggage handling</th>\n",
       "      <th>Checkin service</th>\n",
       "      <th>Inflight service</th>\n",
       "      <th>Cleanliness</th>\n",
       "      <th>Departure Delay in Minutes</th>\n",
       "      <th>Arrival Delay in Minutes</th>\n",
       "      <th>satisfaction</th>\n",
       "    </tr>\n",
       "  </thead>\n",
       "  <tbody>\n",
       "    <tr>\n",
       "      <th>0</th>\n",
       "      <td>128251</td>\n",
       "      <td>Male</td>\n",
       "      <td>Loyal Customer</td>\n",
       "      <td>59</td>\n",
       "      <td>Business travel</td>\n",
       "      <td>Business</td>\n",
       "      <td>2092</td>\n",
       "      <td>2</td>\n",
       "      <td>2</td>\n",
       "      <td>4</td>\n",
       "      <td>...</td>\n",
       "      <td>5</td>\n",
       "      <td>5</td>\n",
       "      <td>5</td>\n",
       "      <td>5</td>\n",
       "      <td>5</td>\n",
       "      <td>5</td>\n",
       "      <td>5</td>\n",
       "      <td>16</td>\n",
       "      <td>19.0</td>\n",
       "      <td>satisfied</td>\n",
       "    </tr>\n",
       "    <tr>\n",
       "      <th>1</th>\n",
       "      <td>54357</td>\n",
       "      <td>Female</td>\n",
       "      <td>disloyal Customer</td>\n",
       "      <td>24</td>\n",
       "      <td>Business travel</td>\n",
       "      <td>Eco</td>\n",
       "      <td>1235</td>\n",
       "      <td>4</td>\n",
       "      <td>4</td>\n",
       "      <td>4</td>\n",
       "      <td>...</td>\n",
       "      <td>1</td>\n",
       "      <td>4</td>\n",
       "      <td>3</td>\n",
       "      <td>4</td>\n",
       "      <td>3</td>\n",
       "      <td>4</td>\n",
       "      <td>3</td>\n",
       "      <td>167</td>\n",
       "      <td>139.0</td>\n",
       "      <td>neutral or dissatisfied</td>\n",
       "    </tr>\n",
       "    <tr>\n",
       "      <th>2</th>\n",
       "      <td>94812</td>\n",
       "      <td>Male</td>\n",
       "      <td>Loyal Customer</td>\n",
       "      <td>33</td>\n",
       "      <td>Business travel</td>\n",
       "      <td>Business</td>\n",
       "      <td>2722</td>\n",
       "      <td>2</td>\n",
       "      <td>4</td>\n",
       "      <td>4</td>\n",
       "      <td>...</td>\n",
       "      <td>2</td>\n",
       "      <td>1</td>\n",
       "      <td>3</td>\n",
       "      <td>3</td>\n",
       "      <td>1</td>\n",
       "      <td>3</td>\n",
       "      <td>2</td>\n",
       "      <td>13</td>\n",
       "      <td>12.0</td>\n",
       "      <td>neutral or dissatisfied</td>\n",
       "    </tr>\n",
       "    <tr>\n",
       "      <th>3</th>\n",
       "      <td>69498</td>\n",
       "      <td>Male</td>\n",
       "      <td>Loyal Customer</td>\n",
       "      <td>18</td>\n",
       "      <td>Personal Travel</td>\n",
       "      <td>Eco Plus</td>\n",
       "      <td>1089</td>\n",
       "      <td>3</td>\n",
       "      <td>4</td>\n",
       "      <td>3</td>\n",
       "      <td>...</td>\n",
       "      <td>1</td>\n",
       "      <td>1</td>\n",
       "      <td>5</td>\n",
       "      <td>1</td>\n",
       "      <td>2</td>\n",
       "      <td>5</td>\n",
       "      <td>1</td>\n",
       "      <td>0</td>\n",
       "      <td>0.0</td>\n",
       "      <td>neutral or dissatisfied</td>\n",
       "    </tr>\n",
       "    <tr>\n",
       "      <th>4</th>\n",
       "      <td>26707</td>\n",
       "      <td>Female</td>\n",
       "      <td>Loyal Customer</td>\n",
       "      <td>41</td>\n",
       "      <td>Personal Travel</td>\n",
       "      <td>Eco</td>\n",
       "      <td>270</td>\n",
       "      <td>0</td>\n",
       "      <td>4</td>\n",
       "      <td>0</td>\n",
       "      <td>...</td>\n",
       "      <td>3</td>\n",
       "      <td>3</td>\n",
       "      <td>2</td>\n",
       "      <td>5</td>\n",
       "      <td>3</td>\n",
       "      <td>5</td>\n",
       "      <td>3</td>\n",
       "      <td>0</td>\n",
       "      <td>0.0</td>\n",
       "      <td>satisfied</td>\n",
       "    </tr>\n",
       "  </tbody>\n",
       "</table>\n",
       "<p>5 rows × 24 columns</p>\n",
       "</div>"
      ],
      "text/plain": [
       "       id  Gender      Customer Type  Age   Type of Travel     Class  \\\n",
       "0  128251    Male     Loyal Customer   59  Business travel  Business   \n",
       "1   54357  Female  disloyal Customer   24  Business travel       Eco   \n",
       "2   94812    Male     Loyal Customer   33  Business travel  Business   \n",
       "3   69498    Male     Loyal Customer   18  Personal Travel  Eco Plus   \n",
       "4   26707  Female     Loyal Customer   41  Personal Travel       Eco   \n",
       "\n",
       "   Flight Distance  Inflight wifi service  Departure/Arrival time convenient  \\\n",
       "0             2092                      2                                  2   \n",
       "1             1235                      4                                  4   \n",
       "2             2722                      2                                  4   \n",
       "3             1089                      3                                  4   \n",
       "4              270                      0                                  4   \n",
       "\n",
       "   Ease of Online booking  ...  Inflight entertainment  On-board service  \\\n",
       "0                       4  ...                       5                 5   \n",
       "1                       4  ...                       1                 4   \n",
       "2                       4  ...                       2                 1   \n",
       "3                       3  ...                       1                 1   \n",
       "4                       0  ...                       3                 3   \n",
       "\n",
       "   Leg room service  Baggage handling  Checkin service  Inflight service  \\\n",
       "0                 5                 5                5                 5   \n",
       "1                 3                 4                3                 4   \n",
       "2                 3                 3                1                 3   \n",
       "3                 5                 1                2                 5   \n",
       "4                 2                 5                3                 5   \n",
       "\n",
       "   Cleanliness  Departure Delay in Minutes  Arrival Delay in Minutes  \\\n",
       "0            5                          16                      19.0   \n",
       "1            3                         167                     139.0   \n",
       "2            2                          13                      12.0   \n",
       "3            1                           0                       0.0   \n",
       "4            3                           0                       0.0   \n",
       "\n",
       "              satisfaction  \n",
       "0                satisfied  \n",
       "1  neutral or dissatisfied  \n",
       "2  neutral or dissatisfied  \n",
       "3  neutral or dissatisfied  \n",
       "4                satisfied  \n",
       "\n",
       "[5 rows x 24 columns]"
      ]
     },
     "execution_count": 44,
     "metadata": {},
     "output_type": "execute_result"
    }
   ],
   "source": [
    "#shuffle\n",
    "df = shuffle(df, random_state=101)\n",
    "df.reset_index(drop=True, inplace=True)\n",
    "df.head()"
   ]
  },
  {
   "cell_type": "code",
   "execution_count": 45,
   "id": "a0ec7159",
   "metadata": {},
   "outputs": [
    {
     "data": {
      "text/plain": [
       "Index(['neutral or dissatisfied', 'satisfied'], dtype='object')"
      ]
     },
     "execution_count": 45,
     "metadata": {},
     "output_type": "execute_result"
    }
   ],
   "source": [
    "df['satisfaction'].cat.categories"
   ]
  },
  {
   "cell_type": "code",
   "execution_count": 47,
   "id": "643171ed",
   "metadata": {},
   "outputs": [
    {
     "data": {
      "text/plain": [
       "Index(['Business travel', 'Personal Travel'], dtype='object')"
      ]
     },
     "execution_count": 47,
     "metadata": {},
     "output_type": "execute_result"
    }
   ],
   "source": [
    "df['Type of Travel'].cat.categories"
   ]
  },
  {
   "cell_type": "code",
   "execution_count": 48,
   "id": "074c1527",
   "metadata": {},
   "outputs": [
    {
     "data": {
      "text/plain": [
       "Index(['Loyal Customer', 'disloyal Customer'], dtype='object')"
      ]
     },
     "execution_count": 48,
     "metadata": {},
     "output_type": "execute_result"
    }
   ],
   "source": [
    "df['Customer Type'].cat.categories"
   ]
  },
  {
   "cell_type": "code",
   "execution_count": 49,
   "id": "b429c872",
   "metadata": {},
   "outputs": [
    {
     "data": {
      "text/plain": [
       "Index(['Business', 'Eco', 'Eco Plus'], dtype='object')"
      ]
     },
     "execution_count": 49,
     "metadata": {},
     "output_type": "execute_result"
    }
   ],
   "source": [
    "df['Class'].cat.categories"
   ]
  },
  {
   "cell_type": "markdown",
   "id": "8d812d66",
   "metadata": {},
   "source": [
    "### Setting the embed sizes"
   ]
  },
  {
   "cell_type": "code",
   "execution_count": 72,
   "id": "cd4c7556",
   "metadata": {},
   "outputs": [
    {
     "data": {
      "text/plain": [
       "[(2, 1), (2, 1), (2, 1), (3, 2)]"
      ]
     },
     "execution_count": 72,
     "metadata": {},
     "output_type": "execute_result"
    }
   ],
   "source": [
    "cat_szs = [len(df[col].cat.categories) for col in category_columns]\n",
    "emb_szs = [(size,min(50,(size+1)//2)) for size in cat_szs]\n",
    "emb_szs"
   ]
  },
  {
   "cell_type": "markdown",
   "id": "3403122a",
   "metadata": {},
   "source": [
    "#### Converting catergorical data to tensors"
   ]
  },
  {
   "cell_type": "code",
   "execution_count": 73,
   "id": "09024e77",
   "metadata": {},
   "outputs": [
    {
     "data": {
      "text/plain": [
       "array([[1, 0, 0, 0],\n",
       "       [0, 1, 0, 1],\n",
       "       [1, 0, 0, 0],\n",
       "       [1, 0, 1, 2],\n",
       "       [0, 0, 1, 1],\n",
       "       [1, 1, 0, 1],\n",
       "       [1, 0, 1, 1]], dtype=int8)"
      ]
     },
     "execution_count": 73,
     "metadata": {},
     "output_type": "execute_result"
    }
   ],
   "source": [
    "gender = df['Gender'].cat.codes.values\n",
    "cs_type = df['Customer Type'].cat.codes.values\n",
    "Ty_of_travel = df['Type of Travel'].cat.codes.values\n",
    "clas = df['Class'].cat.codes.values\n",
    "\n",
    "\n",
    "cats = np.stack([gender,cs_type,Ty_of_travel,clas],1)\n",
    "\n",
    "cats[:7]"
   ]
  },
  {
   "cell_type": "code",
   "execution_count": 74,
   "id": "aab5d19b",
   "metadata": {},
   "outputs": [
    {
     "data": {
      "text/plain": [
       "tensor([[1, 0, 0, 0],\n",
       "        [0, 1, 0, 1],\n",
       "        [1, 0, 0, 0],\n",
       "        [1, 0, 1, 2],\n",
       "        [0, 0, 1, 1],\n",
       "        [1, 1, 0, 1],\n",
       "        [1, 0, 1, 1]])"
      ]
     },
     "execution_count": 74,
     "metadata": {},
     "output_type": "execute_result"
    }
   ],
   "source": [
    "#converting numpy arrays to tensors\n",
    "\n",
    "cats = torch.tensor(cats,dtype = torch.int64)\n",
    "\n",
    "cats[:7]"
   ]
  },
  {
   "cell_type": "code",
   "execution_count": 75,
   "id": "10494a9b",
   "metadata": {},
   "outputs": [
    {
     "data": {
      "text/plain": [
       "tensor([1, 0, 0, 0, 1, 1, 0])"
      ]
     },
     "execution_count": 75,
     "metadata": {},
     "output_type": "execute_result"
    }
   ],
   "source": [
    "y = df['satisfaction'].cat.codes.values\n",
    "\n",
    "y = torch.tensor(y,dtype = torch.int64)\n",
    "\n",
    "y[:7]"
   ]
  },
  {
   "cell_type": "markdown",
   "id": "92fcd31f",
   "metadata": {},
   "source": [
    "#### Converting continous data to tensors"
   ]
  },
  {
   "cell_type": "code",
   "execution_count": 70,
   "id": "424d0e9c",
   "metadata": {},
   "outputs": [
    {
     "data": {
      "text/plain": [
       "tensor([[1.2825e+05, 5.9000e+01, 2.0920e+03, 2.0000e+00, 2.0000e+00, 4.0000e+00,\n",
       "         2.0000e+00, 5.0000e+00, 5.0000e+00, 4.0000e+00, 5.0000e+00, 5.0000e+00,\n",
       "         5.0000e+00, 5.0000e+00, 5.0000e+00, 5.0000e+00, 5.0000e+00, 1.6000e+01,\n",
       "         1.9000e+01],\n",
       "        [5.4357e+04, 2.4000e+01, 1.2350e+03, 4.0000e+00, 4.0000e+00, 4.0000e+00,\n",
       "         4.0000e+00, 4.0000e+00, 3.0000e+00, 3.0000e+00, 1.0000e+00, 4.0000e+00,\n",
       "         3.0000e+00, 4.0000e+00, 3.0000e+00, 4.0000e+00, 3.0000e+00, 1.6700e+02,\n",
       "         1.3900e+02],\n",
       "        [9.4812e+04, 3.3000e+01, 2.7220e+03, 2.0000e+00, 4.0000e+00, 4.0000e+00,\n",
       "         4.0000e+00, 2.0000e+00, 2.0000e+00, 2.0000e+00, 2.0000e+00, 1.0000e+00,\n",
       "         3.0000e+00, 3.0000e+00, 1.0000e+00, 3.0000e+00, 2.0000e+00, 1.3000e+01,\n",
       "         1.2000e+01],\n",
       "        [6.9498e+04, 1.8000e+01, 1.0890e+03, 3.0000e+00, 4.0000e+00, 3.0000e+00,\n",
       "         4.0000e+00, 1.0000e+00, 3.0000e+00, 1.0000e+00, 1.0000e+00, 1.0000e+00,\n",
       "         5.0000e+00, 1.0000e+00, 2.0000e+00, 5.0000e+00, 1.0000e+00, 0.0000e+00,\n",
       "         0.0000e+00],\n",
       "        [2.6707e+04, 4.1000e+01, 2.7000e+02, 0.0000e+00, 4.0000e+00, 0.0000e+00,\n",
       "         4.0000e+00, 3.0000e+00, 0.0000e+00, 3.0000e+00, 3.0000e+00, 3.0000e+00,\n",
       "         2.0000e+00, 5.0000e+00, 3.0000e+00, 5.0000e+00, 3.0000e+00, 0.0000e+00,\n",
       "         0.0000e+00],\n",
       "        [4.0044e+04, 4.0000e+01, 9.2600e+02, 4.0000e+00, 4.0000e+00, 4.0000e+00,\n",
       "         4.0000e+00, 1.0000e+00, 4.0000e+00, 1.0000e+00, 1.0000e+00, 4.0000e+00,\n",
       "         1.0000e+00, 4.0000e+00, 1.0000e+00, 3.0000e+00, 1.0000e+00, 2.0000e+00,\n",
       "         0.0000e+00],\n",
       "        [1.6583e+04, 4.9000e+01, 8.7200e+02, 2.0000e+00, 2.0000e+00, 2.0000e+00,\n",
       "         3.0000e+00, 3.0000e+00, 2.0000e+00, 3.0000e+00, 3.0000e+00, 3.0000e+00,\n",
       "         4.0000e+00, 4.0000e+00, 3.0000e+00, 4.0000e+00, 3.0000e+00, 0.0000e+00,\n",
       "         0.0000e+00]])"
      ]
     },
     "execution_count": 70,
     "metadata": {},
     "output_type": "execute_result"
    }
   ],
   "source": [
    "conts = np.stack([df[col].values for col in continous_columns],1)\n",
    "conts = torch.tensor(conts,dtype = torch.float)\n",
    "conts[:7]\n"
   ]
  },
  {
   "cell_type": "code",
   "execution_count": 76,
   "id": "4d50b0fe",
   "metadata": {},
   "outputs": [
    {
     "data": {
      "text/plain": [
       "torch.Size([103904])"
      ]
     },
     "execution_count": 76,
     "metadata": {},
     "output_type": "execute_result"
    }
   ],
   "source": [
    "y.shape"
   ]
  },
  {
   "cell_type": "code",
   "execution_count": 77,
   "id": "1b33d4ba",
   "metadata": {},
   "outputs": [
    {
     "data": {
      "text/plain": [
       "torch.Size([103904, 19])"
      ]
     },
     "execution_count": 77,
     "metadata": {},
     "output_type": "execute_result"
    }
   ],
   "source": [
    "conts.shape"
   ]
  },
  {
   "cell_type": "code",
   "execution_count": 78,
   "id": "320683c9",
   "metadata": {},
   "outputs": [
    {
     "data": {
      "text/plain": [
       "torch.Size([103904, 4])"
      ]
     },
     "execution_count": 78,
     "metadata": {},
     "output_type": "execute_result"
    }
   ],
   "source": [
    "cats.shape"
   ]
  },
  {
   "cell_type": "markdown",
   "id": "54c523a3",
   "metadata": {},
   "source": [
    "## Test and Train Model"
   ]
  },
  {
   "cell_type": "code",
   "execution_count": 114,
   "id": "f75b9bff",
   "metadata": {},
   "outputs": [
    {
     "data": {
      "text/plain": [
       "tensor([[1, 0, 0, 0],\n",
       "        [0, 1, 0, 1],\n",
       "        [1, 0, 0, 0],\n",
       "        [1, 0, 1, 2],\n",
       "        [0, 0, 1, 1],\n",
       "        [1, 1, 0, 1],\n",
       "        [1, 0, 1, 1]])"
      ]
     },
     "execution_count": 114,
     "metadata": {},
     "output_type": "execute_result"
    }
   ],
   "source": [
    "catz = cats[:7]\n",
    "catz"
   ]
  },
  {
   "cell_type": "code",
   "execution_count": 115,
   "id": "cd4d7414",
   "metadata": {},
   "outputs": [
    {
     "data": {
      "text/plain": [
       "[(2, 1), (2, 1), (2, 1), (3, 2)]"
      ]
     },
     "execution_count": 115,
     "metadata": {},
     "output_type": "execute_result"
    }
   ],
   "source": [
    "emb_szs"
   ]
  },
  {
   "cell_type": "code",
   "execution_count": 116,
   "id": "a18aa718",
   "metadata": {},
   "outputs": [
    {
     "name": "stdout",
     "output_type": "stream",
     "text": [
      "Embedding(2, 1)\n",
      "Embedding(2, 1)\n",
      "Embedding(2, 1)\n",
      "Embedding(3, 2)\n"
     ]
    }
   ],
   "source": [
    "selfembeds = nn.ModuleList([nn.Embedding(ni,nf) for ni,nf in emb_szs])\n",
    "selfembeds\n",
    "for i in selfembeds:\n",
    "    print(i)"
   ]
  },
  {
   "cell_type": "code",
   "execution_count": 148,
   "id": "133a7f2b",
   "metadata": {},
   "outputs": [],
   "source": [
    "class TabularModel(nn.Module):\n",
    "    \n",
    "    def __init__(self,emb_szs,n_cont,out_sz,layers,p = 0.5):\n",
    "        super().__init__()\n",
    "        self.embeds = nn.ModuleList([nn.Embedding(ni,nf) for ni,nf in emb_szs])\n",
    "        self.emb_drop = nn.Dropout(p) # technique to avoid overfitting\n",
    "        self.bn_cont = nn.BatchNorm1d(n_cont)\n",
    "        \n",
    "        layerlist = []\n",
    "        n_emb = sum((nf for ni,nf in emb_szs))\n",
    "        n_in = n_emb + n_cont\n",
    "        \n",
    "        for i in layers:\n",
    "            layerlist.append(nn.Linear(n_in,i)) \n",
    "            layerlist.append(nn.ReLU(inplace=True))\n",
    "            layerlist.append(nn.BatchNorm1d(i))\n",
    "            layerlist.append(nn.Dropout(p))\n",
    "            n_in = i\n",
    "        layerlist.append(nn.Linear(layers[-1],out_sz))\n",
    "            \n",
    "        self.layers = nn.Sequential(*layerlist)\n",
    "    \n",
    "    def forward(self, x_cat, x_cont):\n",
    "        embeddings = []\n",
    "        for i,e in enumerate(self.embeds):\n",
    "            embeddings.append(e(x_cat[:,i]))\n",
    "        x = torch.cat(embeddings, 1)\n",
    "        x = self.emb_drop(x)\n",
    "        \n",
    "        x_cont = self.bn_cont(x_cont)\n",
    "        x = torch.cat([x, x_cont], 1)\n",
    "        x = self.layers(x)\n",
    "        return x"
   ]
  },
  {
   "cell_type": "code",
   "execution_count": 149,
   "id": "7920ba8d",
   "metadata": {},
   "outputs": [],
   "source": [
    "torch.manual_seed(33)\n",
    "model = TabularModel(emb_szs, conts.shape[1], 2, [200,100], p=0.4) "
   ]
  },
  {
   "cell_type": "code",
   "execution_count": null,
   "id": "ba7c394e",
   "metadata": {},
   "outputs": [],
   "source": []
  },
  {
   "cell_type": "code",
   "execution_count": 150,
   "id": "e452aff6",
   "metadata": {},
   "outputs": [],
   "source": [
    "batch_size = 103904\n",
    "test_size = 31171\n",
    "diff = batch_size - test_size\n",
    "\n",
    "cat_train = cats[:diff]\n",
    "cat_test = cats[diff:batch_size]\n",
    "con_train = conts[:diff]\n",
    "con_test = conts[diff:batch_size]\n",
    "y_train = y[:diff]\n",
    "y_test = y[diff:batch_size]"
   ]
  },
  {
   "cell_type": "code",
   "execution_count": 128,
   "id": "67206a1f",
   "metadata": {},
   "outputs": [
    {
     "data": {
      "text/plain": [
       "72733"
      ]
     },
     "execution_count": 128,
     "metadata": {},
     "output_type": "execute_result"
    }
   ],
   "source": [
    "len(cat_train)"
   ]
  },
  {
   "cell_type": "code",
   "execution_count": 129,
   "id": "d0842dfa",
   "metadata": {},
   "outputs": [
    {
     "data": {
      "text/plain": [
       "72733"
      ]
     },
     "execution_count": 129,
     "metadata": {},
     "output_type": "execute_result"
    }
   ],
   "source": [
    "len(con_train)"
   ]
  },
  {
   "cell_type": "code",
   "execution_count": 130,
   "id": "04369424",
   "metadata": {},
   "outputs": [
    {
     "data": {
      "text/plain": [
       "72733"
      ]
     },
     "execution_count": 130,
     "metadata": {},
     "output_type": "execute_result"
    }
   ],
   "source": [
    "len(y_train)"
   ]
  },
  {
   "cell_type": "code",
   "execution_count": 131,
   "id": "0177e43e",
   "metadata": {},
   "outputs": [
    {
     "data": {
      "text/plain": [
       "31171"
      ]
     },
     "execution_count": 131,
     "metadata": {},
     "output_type": "execute_result"
    }
   ],
   "source": [
    "len(cat_test)"
   ]
  },
  {
   "cell_type": "code",
   "execution_count": 132,
   "id": "320c205a",
   "metadata": {},
   "outputs": [
    {
     "data": {
      "text/plain": [
       "31171"
      ]
     },
     "execution_count": 132,
     "metadata": {},
     "output_type": "execute_result"
    }
   ],
   "source": [
    "len(con_test)"
   ]
  },
  {
   "cell_type": "code",
   "execution_count": 133,
   "id": "c06de7e4",
   "metadata": {},
   "outputs": [
    {
     "data": {
      "text/plain": [
       "31171"
      ]
     },
     "execution_count": 133,
     "metadata": {},
     "output_type": "execute_result"
    }
   ],
   "source": [
    "len(y_test)"
   ]
  },
  {
   "cell_type": "code",
   "execution_count": 151,
   "id": "18f9c3fa",
   "metadata": {},
   "outputs": [],
   "source": [
    "criterion = nn.CrossEntropyLoss()\n",
    "optimizer = torch.optim.Adam(model.parameters(), lr=0.01)"
   ]
  },
  {
   "cell_type": "code",
   "execution_count": 152,
   "id": "74847706",
   "metadata": {},
   "outputs": [
    {
     "name": "stdout",
     "output_type": "stream",
     "text": [
      "epoch:   1  loss: 0.78948575\n",
      "epoch:  26  loss: 0.23825958\n",
      "epoch:  51  loss: 0.18448788\n",
      "epoch:  76  loss: 0.15656921\n",
      "epoch: 101  loss: 0.14175181\n",
      "epoch: 126  loss: 0.13278049\n",
      "epoch: 151  loss: 0.12564446\n",
      "epoch: 176  loss: 0.12264418\n",
      "epoch: 201  loss: 0.11634686\n",
      "epoch: 226  loss: 0.11432732\n",
      "epoch: 251  loss: 0.10980576\n",
      "epoch: 276  loss: 0.10855845\n",
      "epoch: 301  loss: 0.10631803\n",
      "epoch: 326  loss: 0.10498178\n",
      "epoch: 351  loss: 0.10252241\n",
      "epoch: 376  loss: 0.10149067\n",
      "epoch: 401  loss: 0.10116623\n",
      "epoch: 426  loss: 0.09996014\n",
      "epoch: 451  loss: 0.09990887\n",
      "epoch: 476  loss: 0.09716039\n",
      "epoch: 501  loss: 0.09794958\n",
      "epoch: 526  loss: 0.09688347\n",
      "epoch: 551  loss: 0.09760341\n",
      "epoch: 576  loss: 0.09590451\n",
      "epoch: 601  loss: 0.09517289\n",
      "epoch: 626  loss: 0.09382916\n",
      "epoch: 651  loss: 0.09574563\n",
      "epoch: 676  loss: 0.09352733\n",
      "epoch: 701  loss: 0.09567324\n",
      "epoch: 726  loss: 0.09326078\n",
      "epoch: 751  loss: 0.09266559\n",
      "epoch: 776  loss: 0.09121493\n",
      "epoch: 801  loss: 0.09098496\n",
      "epoch: 826  loss: 0.09020428\n",
      "epoch: 851  loss: 0.09095984\n",
      "epoch: 876  loss: 0.09138360\n",
      "epoch: 901  loss: 0.08964745\n",
      "epoch: 926  loss: 0.08948983\n",
      "epoch: 951  loss: 0.09059362\n",
      "epoch: 976  loss: 0.08953668\n",
      "epoch: 1000  loss: 0.09013703\n",
      "\n",
      "Duration: 299 seconds\n"
     ]
    }
   ],
   "source": [
    "import time\n",
    "start_time = time.time()\n",
    "\n",
    "epochs = 1000\n",
    "losses = []\n",
    "\n",
    "for i in range(epochs):\n",
    "    i = i+1\n",
    "    y_pred = model(cat_train,con_train)\n",
    "    loss = criterion(y_pred, y_train)\n",
    "    losses.append(loss)\n",
    "    \n",
    "    if i%25 == 1:\n",
    "        print(f'epoch: {i:3}  loss: {loss.item():10.8f}')\n",
    "\n",
    "    optimizer.zero_grad()\n",
    "    loss.backward()\n",
    "    optimizer.step()\n",
    "\n",
    "print(f'epoch: {i:3}  loss: {loss.item():10.8f}') # print the last line\n",
    "print(f'\\nDuration: {time.time() - start_time:.0f} seconds') # print the time elapsed\n",
    "    "
   ]
  },
  {
   "cell_type": "markdown",
   "id": "5c3a813c",
   "metadata": {},
   "source": [
    "### Plot loss function"
   ]
  },
  {
   "cell_type": "code",
   "execution_count": 180,
   "id": "a2ffb190",
   "metadata": {},
   "outputs": [
    {
     "data": {
      "text/plain": [
       "Text(0.5, 0, 'epoch')"
      ]
     },
     "execution_count": 180,
     "metadata": {},
     "output_type": "execute_result"
    },
    {
     "data": {
      "image/png": "[encoded data removed]",
      "text/plain": [
       "<Figure size 1280x960 with 1 Axes>"
      ]
     },
     "metadata": {},
     "output_type": "display_data"
    }
   ],
   "source": [
    "plt.figure(dpi = 200)\n",
    "ls = [loss.detach().numpy() for loss in losses]\n",
    "plt.plot(range(epochs), ls)\n",
    "plt.ylabel('Cross Entropy Loss')\n",
    "plt.xlabel('epoch')"
   ]
  },
  {
   "cell_type": "markdown",
   "id": "bf45ce0e",
   "metadata": {},
   "source": [
    "## Model Validation"
   ]
  },
  {
   "cell_type": "code",
   "execution_count": 158,
   "id": "8d87654d",
   "metadata": {},
   "outputs": [
    {
     "name": "stdout",
     "output_type": "stream",
     "text": [
      "CE loss: 0.11353566497564316\n"
     ]
    }
   ],
   "source": [
    "with torch.no_grad():\n",
    "    y_val = model(cat_test,con_test)\n",
    "    loss = criterion(y_val,y_test)\n",
    "print(f\"CE loss: {loss }\")"
   ]
  },
  {
   "cell_type": "markdown",
   "id": "bbd99411",
   "metadata": {},
   "source": [
    "## Saving the model"
   ]
  },
  {
   "cell_type": "code",
   "execution_count": 161,
   "id": "ef4553ce",
   "metadata": {},
   "outputs": [],
   "source": [
    "if len(losses) == epochs:\n",
    "    torch.save(model.state_dict(), 'D:\\data science\\Data scientist\\Projects\\Project 3 ANN - DL\\Airlinessatisfaction.pt')\n",
    "else:\n",
    "    print('Model has not been trained. Consider loading a trained model instead.')"
   ]
  },
  {
   "cell_type": "markdown",
   "id": "6d472058",
   "metadata": {},
   "source": [
    "## Feeding new data"
   ]
  },
  {
   "cell_type": "code",
   "execution_count": 169,
   "id": "52252052",
   "metadata": {},
   "outputs": [
    {
     "name": "stdout",
     "output_type": "stream",
     "text": [
      "enter gender = Male\n",
      "Customer type = Loyal Customer\n",
      "Type of travel = Business travel\n",
      "Travel class = Business\n",
      "enter id = 44304\n",
      "enter age = 25\n",
      "Flight Distance = 1428\n",
      "Inflight wifi service = 4\n",
      "Departure/Arrival time convenient = 4\n",
      "Ease of Online booking = 4\n",
      "Gate location = 4\n",
      "Food and drink = 4\n",
      "Online boarding = 4\n",
      "Seat comfort = 4\n",
      "Inflight entertainment = 4\n",
      "On-board service = 1\n",
      "Leg room service = 5\n",
      "Baggage handling = 3\n",
      "Checkin service = 1\n",
      "Inflight service = 5\n",
      "Cleanliness = 4\n",
      "Departure Delay in Minutes = 0\n",
      "Arrival Delay in Minutes = 0\n",
      "Customer is satisfied!\n"
     ]
    }
   ],
   "source": [
    "def test_data(mdl):\n",
    "    gen = input(\"enter gender = \")\n",
    "    cus = input(\"Customer type = \")\n",
    "    typ = input(\"Type of travel = \")\n",
    "    clas = input(\"Travel class = \")\n",
    "    id_ = int(input(\"enter id = \"))\n",
    "    ag = int(input(\"enter age = \"))\n",
    "    fg = int(input(\"Flight Distance = \"))\n",
    "    wi = int(input(\"Inflight wifi service = \"))\n",
    "    d = int(input(\"Departure/Arrival time convenient = \"))\n",
    "    e = int(input(\"Ease of Online booking = \"))\n",
    "    g = int(input(\"Gate location = \"))\n",
    "    fd = int(input(\"Food and drink = \"))\n",
    "    ob = int(input(\"Online boarding = \"))\n",
    "    sc = int(input(\"Seat comfort = \"))\n",
    "    ife = int(input(\"Inflight entertainment = \"))\n",
    "    obs = int(input(\"On-board service = \"))\n",
    "    lgs = int(input(\"Leg room service = \"))\n",
    "    bag = int(input(\"Baggage handling = \"))\n",
    "    Che = int(input(\"Checkin service = \"))\n",
    "    ifs = int(input(\"Inflight service = \"))\n",
    "    cl = int(input(\"Cleanliness = \"))\n",
    "    dd = int(input(\"Departure Delay in Minutes = \"))\n",
    "    ad = int(input(\"Arrival Delay in Minutes = \"))\n",
    "    \n",
    "    \n",
    "    gen_d = {'Male':0,'Female':1}\n",
    "    cus_d = {'Loyal Customer':0,'disloyal Customer':1}\n",
    "    typ_d = {'Business travel':0,'Personal Travel':1}\n",
    "    clas_d = {'Eco':0,'Business':1,'Eco Plus':2}\n",
    "    \n",
    "    gen = gen_d[gen]\n",
    "    cus = cus_d[cus]\n",
    "    typ = typ_d[typ]\n",
    "    clas = clas_d[clas]\n",
    "    \n",
    "    xcats = torch.tensor([gen, cus, typ, clas], dtype=torch.int64).reshape(1,-1)\n",
    "    xconts = torch.tensor([id_, ag, fg, wi, d, e, g, fd, ob, sc, ife, obs, lgs, bag, Che, ifs, cl, dd, ad], dtype=torch.float).reshape(1,-1)\n",
    "    \n",
    "    mdl.eval()\n",
    "    \n",
    "    with torch.no_grad():\n",
    "        z = mdl(xcats, xconts).argmax().item()\n",
    "        \n",
    "        \n",
    "    if z == 1:\n",
    "         print('Customer is satisfied!')\n",
    "    else:\n",
    "        print(\"Customer is not Satisfied!\")\n",
    "    \n",
    "test_data(model)"
   ]
  },
  {
   "cell_type": "code",
   "execution_count": 172,
   "id": "a6aa9334",
   "metadata": {},
   "outputs": [],
   "source": [
    "dftest = pd.read_csv(r\"D:\\data science\\Data scientist\\Projects\\Project 3 ANN - DL\\test.csv\")"
   ]
  },
  {
   "cell_type": "code",
   "execution_count": 179,
   "id": "6541c902",
   "metadata": {},
   "outputs": [
    {
     "data": {
      "text/html": [
       "<div>\n",
       "<style scoped>\n",
       "    .dataframe tbody tr th:only-of-type {\n",
       "        vertical-align: middle;\n",
       "    }\n",
       "\n",
       "    .dataframe tbody tr th {\n",
       "        vertical-align: top;\n",
       "    }\n",
       "\n",
       "    .dataframe thead th {\n",
       "        text-align: right;\n",
       "    }\n",
       "</style>\n",
       "<table border=\"1\" class=\"dataframe\">\n",
       "  <thead>\n",
       "    <tr style=\"text-align: right;\">\n",
       "      <th></th>\n",
       "      <th>23</th>\n",
       "    </tr>\n",
       "  </thead>\n",
       "  <tbody>\n",
       "    <tr>\n",
       "      <th>Unnamed: 0</th>\n",
       "      <td>23</td>\n",
       "    </tr>\n",
       "    <tr>\n",
       "      <th>id</th>\n",
       "      <td>44304</td>\n",
       "    </tr>\n",
       "    <tr>\n",
       "      <th>Gender</th>\n",
       "      <td>Male</td>\n",
       "    </tr>\n",
       "    <tr>\n",
       "      <th>Customer Type</th>\n",
       "      <td>Loyal Customer</td>\n",
       "    </tr>\n",
       "    <tr>\n",
       "      <th>Age</th>\n",
       "      <td>25</td>\n",
       "    </tr>\n",
       "    <tr>\n",
       "      <th>Type of Travel</th>\n",
       "      <td>Business travel</td>\n",
       "    </tr>\n",
       "    <tr>\n",
       "      <th>Class</th>\n",
       "      <td>Business</td>\n",
       "    </tr>\n",
       "    <tr>\n",
       "      <th>Flight Distance</th>\n",
       "      <td>1428</td>\n",
       "    </tr>\n",
       "    <tr>\n",
       "      <th>Inflight wifi service</th>\n",
       "      <td>4</td>\n",
       "    </tr>\n",
       "    <tr>\n",
       "      <th>Departure/Arrival time convenient</th>\n",
       "      <td>4</td>\n",
       "    </tr>\n",
       "    <tr>\n",
       "      <th>Ease of Online booking</th>\n",
       "      <td>4</td>\n",
       "    </tr>\n",
       "    <tr>\n",
       "      <th>Gate location</th>\n",
       "      <td>4</td>\n",
       "    </tr>\n",
       "    <tr>\n",
       "      <th>Food and drink</th>\n",
       "      <td>4</td>\n",
       "    </tr>\n",
       "    <tr>\n",
       "      <th>Online boarding</th>\n",
       "      <td>4</td>\n",
       "    </tr>\n",
       "    <tr>\n",
       "      <th>Seat comfort</th>\n",
       "      <td>4</td>\n",
       "    </tr>\n",
       "    <tr>\n",
       "      <th>Inflight entertainment</th>\n",
       "      <td>4</td>\n",
       "    </tr>\n",
       "    <tr>\n",
       "      <th>On-board service</th>\n",
       "      <td>1</td>\n",
       "    </tr>\n",
       "    <tr>\n",
       "      <th>Leg room service</th>\n",
       "      <td>5</td>\n",
       "    </tr>\n",
       "    <tr>\n",
       "      <th>Baggage handling</th>\n",
       "      <td>3</td>\n",
       "    </tr>\n",
       "    <tr>\n",
       "      <th>Checkin service</th>\n",
       "      <td>1</td>\n",
       "    </tr>\n",
       "    <tr>\n",
       "      <th>Inflight service</th>\n",
       "      <td>5</td>\n",
       "    </tr>\n",
       "    <tr>\n",
       "      <th>Cleanliness</th>\n",
       "      <td>4</td>\n",
       "    </tr>\n",
       "    <tr>\n",
       "      <th>Departure Delay in Minutes</th>\n",
       "      <td>0</td>\n",
       "    </tr>\n",
       "    <tr>\n",
       "      <th>Arrival Delay in Minutes</th>\n",
       "      <td>0.0</td>\n",
       "    </tr>\n",
       "    <tr>\n",
       "      <th>satisfaction</th>\n",
       "      <td>satisfied</td>\n",
       "    </tr>\n",
       "  </tbody>\n",
       "</table>\n",
       "</div>"
      ],
      "text/plain": [
       "                                                23\n",
       "Unnamed: 0                                      23\n",
       "id                                           44304\n",
       "Gender                                        Male\n",
       "Customer Type                       Loyal Customer\n",
       "Age                                             25\n",
       "Type of Travel                     Business travel\n",
       "Class                                     Business\n",
       "Flight Distance                               1428\n",
       "Inflight wifi service                            4\n",
       "Departure/Arrival time convenient                4\n",
       "Ease of Online booking                           4\n",
       "Gate location                                    4\n",
       "Food and drink                                   4\n",
       "Online boarding                                  4\n",
       "Seat comfort                                     4\n",
       "Inflight entertainment                           4\n",
       "On-board service                                 1\n",
       "Leg room service                                 5\n",
       "Baggage handling                                 3\n",
       "Checkin service                                  1\n",
       "Inflight service                                 5\n",
       "Cleanliness                                      4\n",
       "Departure Delay in Minutes                       0\n",
       "Arrival Delay in Minutes                       0.0\n",
       "satisfaction                             satisfied"
      ]
     },
     "execution_count": 179,
     "metadata": {},
     "output_type": "execute_result"
    }
   ],
   "source": [
    "test_data_dftest = dftest[dftest['id'] == 44304]\n",
    "test_data_dftest.transpose()"
   ]
  },
  {
   "cell_type": "markdown",
   "id": "306860e1",
   "metadata": {},
   "source": [
    "### This data was taken from sepearate test dataset"
   ]
  },
  {
   "cell_type": "markdown",
   "id": "2af40498",
   "metadata": {},
   "source": [
    "### The model predicted correctly that the customer was satisfied with the airline service"
   ]
  }
 ],
 "metadata": {
  "kernelspec": {
   "display_name": "Python 3 (ipykernel)",
   "language": "python",
   "name": "python3"
  },
  "language_info": {
   "codemirror_mode": {
    "name": "ipython",
    "version": 3
   },
   "file_extension": ".py",
   "mimetype": "text/x-python",
   "name": "python",
   "nbconvert_exporter": "python",
   "pygments_lexer": "ipython3",
   "version": "3.11.5"
  }
 },
 "nbformat": 4,
 "nbformat_minor": 5
}
